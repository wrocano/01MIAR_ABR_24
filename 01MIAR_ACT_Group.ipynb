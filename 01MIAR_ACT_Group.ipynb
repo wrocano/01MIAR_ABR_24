{
 "cells": [
  {
   "cell_type": "markdown",
   "id": "a2eea98a-4a8d-47fd-9bbf-19fa4c134d1e",
   "metadata": {
    "tags": []
   },
   "source": [
    "## Actividad 01\n",
    "\n",
    "- Crear una lista con números que comiencen por 30 y que termine en 42 haciendo que el paso entre cada número consecutivo sea de 0.4. Sin usar Numpy."
   ]
  },
  {
   "cell_type": "code",
   "execution_count": 32,
   "id": "d85c47ce-eaff-4caa-856f-0c43eafe9e72",
   "metadata": {
    "tags": []
   },
   "outputs": [
    {
     "name": "stdout",
     "output_type": "stream",
     "text": [
      "['30.00', '30.40', '30.80', '31.20', '31.60', '32.00', '32.40', '32.80', '33.20', '33.60', '34.00', '34.40', '34.80', '35.20', '35.60', '36.00', '36.40', '36.80', '37.20', '37.60', '38.00', '38.40', '38.80', '39.20', '39.60', '40.00', '40.40', '40.80', '41.20', '41.60', '42.00']\n"
     ]
    }
   ],
   "source": [
    "lista = []\n",
    "i = 30\n",
    "while i <= 42:\n",
    "    lista.append(i);\n",
    "    i+=0.4;\n",
    "\n",
    "print ([\"{:.2f}\".format(x) for x in lista] )"
   ]
  },
  {
   "cell_type": "markdown",
   "id": "3ca8b783-fb88-4eb7-8379-3aae550d15b4",
   "metadata": {},
   "source": [
    "## Actividad 02\n",
    "\n",
    "- Dataset -> https://raw.githubusercontent.com/grammakov/USA-cities-and-states/master/us_cities_states_counties.csv\n",
    "- Header -> City|State short|State full|County|City alias\n",
    "- Obtener el número de ciudades que tiene el estado de Florida, usando dicho Dataset\n",
    "- Sin usar Pandas"
   ]
  },
  {
   "cell_type": "code",
   "execution_count": 14,
   "id": "e9fcaff1-f4c8-44b6-bf84-826558901a2f",
   "metadata": {
    "tags": []
   },
   "outputs": [],
   "source": [
    "import urllib\n",
    "\n",
    "url = \"https://raw.githubusercontent.com/grammakov/USA-cities-and-states/master/us_cities_states_counties.csv\"\n",
    "\n",
    "# Devuelve un fichero desde una url como cadena de caracteres\n",
    "def read_url(url):\n",
    "    return urllib.request.urlopen(url).read().decode('utf-8')\n",
    "\n",
    "# Descargar un fichero desde una url a una ruta local\n",
    "def download_file(url, dest):\n",
    "    urllib.request.urlretrieve(url, dest)\n",
    "    return"
   ]
  },
  {
   "cell_type": "code",
   "execution_count": 27,
   "id": "168f097e-9311-4e2a-88ab-bf8c6242b7ca",
   "metadata": {
    "tags": []
   },
   "outputs": [
    {
     "name": "stdout",
     "output_type": "stream",
     "text": [
      "Total de ciudades: 1400 pertenecientes al estado de Florida\n"
     ]
    }
   ],
   "source": [
    "import csv\n",
    "\n",
    "#dataset = read_url(url)\n",
    "#download_file(url,'res/ejercicio2.csv')\n",
    "dataset = open('res/ejercicio2.csv')\n",
    "#print (dataset)\n",
    "data_reader = csv.reader(dataset, delimiter='|')\n",
    "nCiudades = 0\n",
    "estado = \"Florida\"\n",
    "for linea in data_reader:\n",
    "    if linea[2] == estado:\n",
    "        nCiudades +=1;\n",
    "        \n",
    "print(f\"Total de ciudades: {nCiudades} pertenecientes al estado de {estado}\")"
   ]
  }
 ],
 "metadata": {
  "kernelspec": {
   "display_name": "Python 3 (ipykernel)",
   "language": "python",
   "name": "python3"
  },
  "language_info": {
   "codemirror_mode": {
    "name": "ipython",
    "version": 3
   },
   "file_extension": ".py",
   "mimetype": "text/x-python",
   "name": "python",
   "nbconvert_exporter": "python",
   "pygments_lexer": "ipython3",
   "version": "3.11.7"
  }
 },
 "nbformat": 4,
 "nbformat_minor": 5
}
